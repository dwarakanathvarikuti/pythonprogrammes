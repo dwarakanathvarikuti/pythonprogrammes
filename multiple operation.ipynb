{
 "cells": [
  {
   "cell_type": "code",
   "execution_count": 2,
   "metadata": {},
   "outputs": [
    {
     "name": "stdout",
     "output_type": "stream",
     "text": [
      "enter first number:45\n",
      "enter second number:54\n",
      "enter which operation would you like to perform?\n",
      "enter any of those char for specific operation +,-,*,/:*\n",
      "num1,ch,num2,: 2430\n"
     ]
    }
   ],
   "source": [
    "num1=int(input(\"enter first number:\"))\n",
    "num2=int(input(\"enter second number:\"))\n",
    "print(\"enter which operation would you like to perform?\")\n",
    "ch=input(\"enter any of those char for specific operation +,-,*,/:\")\n",
    "result=0\n",
    "if ch=='+':\n",
    "    result=num1+num2\n",
    "elif ch=='-':\n",
    "    result=num1-num2\n",
    "elif ch=='*':\n",
    "    result=num1*num2\n",
    "elif ch=='/':\n",
    "    result=num1/num2\n",
    "else:\n",
    "    print(\"input character is not recognised!\")\n",
    "print(\"num1,ch,num2,:\",result)"
   ]
  },
  {
   "cell_type": "code",
   "execution_count": null,
   "metadata": {},
   "outputs": [],
   "source": []
  },
  {
   "cell_type": "code",
   "execution_count": null,
   "metadata": {},
   "outputs": [],
   "source": []
  },
  {
   "cell_type": "code",
   "execution_count": null,
   "metadata": {},
   "outputs": [],
   "source": []
  },
  {
   "cell_type": "code",
   "execution_count": null,
   "metadata": {},
   "outputs": [],
   "source": []
  }
 ],
 "metadata": {
  "kernelspec": {
   "display_name": "Python 3",
   "language": "python",
   "name": "python3"
  },
  "language_info": {
   "codemirror_mode": {
    "name": "ipython",
    "version": 3
   },
   "file_extension": ".py",
   "mimetype": "text/x-python",
   "name": "python",
   "nbconvert_exporter": "python",
   "pygments_lexer": "ipython3",
   "version": "3.7.6"
  }
 },
 "nbformat": 4,
 "nbformat_minor": 4
}
