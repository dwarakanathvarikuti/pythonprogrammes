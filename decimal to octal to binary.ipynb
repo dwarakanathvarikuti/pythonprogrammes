{
 "cells": [
  {
   "cell_type": "code",
   "execution_count": 24,
   "metadata": {},
   "outputs": [],
   "source": [
    "def decTooctal(n):\n",
    "    OctalNum=[0]*100;\n",
    "    i=0;\n",
    "    while(n!=0):\n",
    "        OctalNum[i]=n%8;\n",
    "        n=int(n/8);\n",
    "        i=i+1;\n",
    "        for j in range(i-1,-1,-1):\n",
    "            print(OctalNum[j],end=\"\");"
   ]
  },
  {
   "cell_type": "code",
   "execution_count": 26,
   "metadata": {},
   "outputs": [],
   "source": [
    "n=33"
   ]
  },
  {
   "cell_type": "code",
   "execution_count": 30,
   "metadata": {},
   "outputs": [
    {
     "ename": "SyntaxError",
     "evalue": "invalid syntax (<ipython-input-30-29da094ea569>, line 7)",
     "output_type": "error",
     "traceback": [
      "\u001b[1;36m  File \u001b[1;32m\"<ipython-input-30-29da094ea569>\"\u001b[1;36m, line \u001b[1;32m7\u001b[0m\n\u001b[1;33m    elif d==1;\u001b[0m\n\u001b[1;37m       ^\u001b[0m\n\u001b[1;31mSyntaxError\u001b[0m\u001b[1;31m:\u001b[0m invalid syntax\n"
     ]
    }
   ],
   "source": [
    "def OctToBin(octnum):\n",
    "    binary=\"\"\n",
    "    while octnum!=0:\n",
    "        d=int(octnum%10)\n",
    "        if d==0:\n",
    "            binary=\"\".join([\"000\",binary])\n",
    "            elif d==1;\n",
    "                binary=\"\".join([\"001\",binary])\n",
    "                elif d==2:\n",
    "                     binary=\"\".join([\"010\",binary])\n",
    "                        elif d==3:\n",
    "                              binary=\"\".join([\"011\",binary])\n",
    "                                elif d==4:\n",
    "                                    binary=\"\".join([\"100\",binary])\n",
    "                                     elif d==5:\n",
    "                                            binary=\"\".join([\"101\",binary])\n",
    "                                            elif d==6:\n",
    "                                                 binary=\"\".join([\"110\",binary])\n",
    "                                                    elif d==7:\n",
    "                                                        binary=\"\".join([\"111\",binary])\n",
    "                                                        else:\n",
    "                                                            binary=\"Invalid Octaldigit\"\n",
    "                                                            break\n",
    "                                                            Octnum=int(octnum/10)\n",
    "                                                            return binary\n",
    "                                                        octnum=345\n",
    "                                                        final_bin=\"\"+OctToBin(octnum)ivalent\n",
    "                                                        print(\"equivalent Binary value=\",final_bin)\n",
    "                                            \n",
    "                    \n",
    "                "
   ]
  },
  {
   "cell_type": "code",
   "execution_count": null,
   "metadata": {},
   "outputs": [],
   "source": []
  }
 ],
 "metadata": {
  "kernelspec": {
   "display_name": "Python 3",
   "language": "python",
   "name": "python3"
  },
  "language_info": {
   "codemirror_mode": {
    "name": "ipython",
    "version": 3
   },
   "file_extension": ".py",
   "mimetype": "text/x-python",
   "name": "python",
   "nbconvert_exporter": "python",
   "pygments_lexer": "ipython3",
   "version": "3.7.6"
  }
 },
 "nbformat": 4,
 "nbformat_minor": 4
}
