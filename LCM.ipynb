{
 "cells": [
  {
   "cell_type": "code",
   "execution_count": 3,
   "metadata": {},
   "outputs": [
    {
     "name": "stdout",
     "output_type": "stream",
     "text": [
      "LCM of 45 and 30 is 90.0\n"
     ]
    }
   ],
   "source": [
    "def gcd(a,b): \n",
    "    if a == 0: \n",
    "        return b \n",
    "    return gcd(b % a, a) \n",
    "def lcm(a,b): \n",
    "    return (a*b) / gcd(a,b) \n",
    "a = 45\n",
    "b = 30\n",
    "print('LCM of', a, 'and', b, 'is', lcm(a, b))"
   ]
  },
  {
   "cell_type": "code",
   "execution_count": 8,
   "metadata": {},
   "outputs": [
    {
     "name": "stdout",
     "output_type": "stream",
     "text": [
      "LCM of 2 and 60 is 60\n"
     ]
    }
   ],
   "source": [
    "def findLCM(a, b): \n",
    "  \n",
    "    lar = max(a, b) \n",
    "    small = min(a, b) \n",
    "    i = lar \n",
    "    while(1) : \n",
    "        if (i % small == 0): \n",
    "            return i \n",
    "        i += lar \n",
    "a = 2\n",
    "b = 60\n",
    "print(\"LCM of \" , a , \" and \",  \n",
    "                  b , \" is \" ,  \n",
    "      findLCM(a, b), sep = \"\") "
   ]
  },
  {
   "cell_type": "code",
   "execution_count": null,
   "metadata": {},
   "outputs": [],
   "source": []
  }
 ],
 "metadata": {
  "kernelspec": {
   "display_name": "Python 3",
   "language": "python",
   "name": "python3"
  },
  "language_info": {
   "codemirror_mode": {
    "name": "ipython",
    "version": 3
   },
   "file_extension": ".py",
   "mimetype": "text/x-python",
   "name": "python",
   "nbconvert_exporter": "python",
   "pygments_lexer": "ipython3",
   "version": "3.7.6"
  }
 },
 "nbformat": 4,
 "nbformat_minor": 4
}
