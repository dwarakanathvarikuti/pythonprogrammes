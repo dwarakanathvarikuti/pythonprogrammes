{
 "cells": [
  {
   "cell_type": "code",
   "execution_count": 1,
   "metadata": {},
   "outputs": [
    {
     "name": "stdout",
     "output_type": "stream",
     "text": [
      "(['A', 'B', 'c'], 3)\n"
     ]
    }
   ],
   "source": [
    "def FindMaxLength(lst): \n",
    "    maxList = max((x) for x in lst) \n",
    "    maxLength = max(len(x) for x in lst ) \n",
    "  \n",
    "    return maxList, maxLength \n",
    "      \n",
    "# Driver Code \n",
    "lst = [['A','B'], ['A', 'B' , 'c'], ['A', 'B', 'C'] , ['A','B','c']] \n",
    "print(FindMaxLength(lst))"
   ]
  },
  {
   "cell_type": "code",
   "execution_count": null,
   "metadata": {},
   "outputs": [],
   "source": []
  }
 ],
 "metadata": {
  "kernelspec": {
   "display_name": "Python 3",
   "language": "python",
   "name": "python3"
  },
  "language_info": {
   "codemirror_mode": {
    "name": "ipython",
    "version": 3
   },
   "file_extension": ".py",
   "mimetype": "text/x-python",
   "name": "python",
   "nbconvert_exporter": "python",
   "pygments_lexer": "ipython3",
   "version": "3.7.6"
  }
 },
 "nbformat": 4,
 "nbformat_minor": 4
}
