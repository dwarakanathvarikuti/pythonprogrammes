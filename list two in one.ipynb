{
 "cells": [
  {
   "cell_type": "code",
   "execution_count": 2,
   "metadata": {},
   "outputs": [
    {
     "name": "stdout",
     "output_type": "stream",
     "text": [
      "[11, 22, 22, 15, 8, 77]\n"
     ]
    }
   ],
   "source": [
    "# Initialisation of first list \n",
    "list1 = [11, 22, 22, 15] \n",
    "  \n",
    "# Initialisation of Second list \n",
    "list2 = [22, 15, 77, 8] \n",
    "  \n",
    "# creating set \n",
    "unique_list1 = set(list1) \n",
    "unique_list2 = set(list2) \n",
    "  \n",
    "# Difference in two sets \n",
    "diff_element = unique_list2 - unique_list1 \n",
    "  \n",
    "# union of difference + first list \n",
    "output = list1 + list(diff_element) \n",
    "  \n",
    "# printing output \n",
    "print(output)"
   ]
  },
  {
   "cell_type": "code",
   "execution_count": null,
   "metadata": {},
   "outputs": [],
   "source": []
  }
 ],
 "metadata": {
  "kernelspec": {
   "display_name": "Python 3",
   "language": "python",
   "name": "python3"
  },
  "language_info": {
   "codemirror_mode": {
    "name": "ipython",
    "version": 3
   },
   "file_extension": ".py",
   "mimetype": "text/x-python",
   "name": "python",
   "nbconvert_exporter": "python",
   "pygments_lexer": "ipython3",
   "version": "3.7.6"
  }
 },
 "nbformat": 4,
 "nbformat_minor": 4
}
