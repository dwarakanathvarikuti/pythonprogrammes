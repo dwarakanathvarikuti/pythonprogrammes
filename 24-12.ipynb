{
 "cells": [
  {
   "cell_type": "code",
   "execution_count": 5,
   "metadata": {},
   "outputs": [
    {
     "name": "stdout",
     "output_type": "stream",
     "text": [
      "11:35:20 PM\n"
     ]
    }
   ],
   "source": [
    "def convert12(str): \n",
    "  \n",
    "    # Get Hours \n",
    "    h1 = ord(str[0]) - ord('0'); \n",
    "    h2 = ord(str[1]) - ord('0'); \n",
    "  \n",
    "    hh = h1 * 10 + h2; \n",
    "  \n",
    "    # Finding out the Meridien of time \n",
    "    # ie. AM or PM \n",
    "    Meridien=\"\"; \n",
    "    if (hh < 12): \n",
    "        Meridien = \"AM\"; \n",
    "    else: \n",
    "        Meridien = \"PM\"; \n",
    "  \n",
    "    hh %= 12; \n",
    "  \n",
    "    # Handle 00 and 12 case separately \n",
    "    if (hh == 0): \n",
    "        print(\"12\", end = \"\"); \n",
    "  \n",
    "        # Printing minutes and seconds \n",
    "        for i in range(2, 8): \n",
    "            print(str[i], end = \"\"); \n",
    "  \n",
    "    else: \n",
    "        print(hh,end=\"\"); \n",
    "          \n",
    "        # Printing minutes and seconds \n",
    "        for i in range(2, 8): \n",
    "            print(str[i], end = \"\"); \n",
    "  \n",
    "    # After time is printed \n",
    "    # cout Meridien \n",
    "    print(\" \" + Meridien); \n",
    "  \n",
    "# Driver code \n",
    "if __name__ == '__main__': \n",
    "  \n",
    "    # 24 hour format \n",
    "    str = \"23:35:20\"; \n",
    "    convert12(str); "
   ]
  },
  {
   "cell_type": "code",
   "execution_count": null,
   "metadata": {},
   "outputs": [],
   "source": []
  }
 ],
 "metadata": {
  "kernelspec": {
   "display_name": "Python 3",
   "language": "python",
   "name": "python3"
  },
  "language_info": {
   "codemirror_mode": {
    "name": "ipython",
    "version": 3
   },
   "file_extension": ".py",
   "mimetype": "text/x-python",
   "name": "python",
   "nbconvert_exporter": "python",
   "pygments_lexer": "ipython3",
   "version": "3.7.6"
  }
 },
 "nbformat": 4,
 "nbformat_minor": 4
}
