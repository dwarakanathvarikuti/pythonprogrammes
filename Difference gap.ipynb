{
 "cells": [
  {
   "cell_type": "code",
   "execution_count": 2,
   "metadata": {},
   "outputs": [
    {
     "name": "stdout",
     "output_type": "stream",
     "text": [
      "intial_list [5, 4, 8, 12, 32, 45]\n",
      "difference list:  [-1, 4, 4, 20, 13]\n"
     ]
    }
   ],
   "source": [
    "ini_list = [5, 4, 8, 12, 32, 45] \n",
    "  \n",
    "# printing iniial_list \n",
    "print(\"intial_list\", str(ini_list)) \n",
    "  \n",
    "# Calculating difference list \n",
    "diff_list = [] \n",
    "for x, y in zip(ini_list[0::], ini_list[1::]): \n",
    "    diff_list.append(y-x) \n",
    "      \n",
    "#printing difference list \n",
    "print (\"difference list: \", str(diff_list)) "
   ]
  },
  {
   "cell_type": "code",
   "execution_count": 3,
   "metadata": {},
   "outputs": [
    {
     "name": "stdout",
     "output_type": "stream",
     "text": [
      "intial_list [5, 4, 8, -3, 32, 2]\n",
      "difference list:  [-1, 4, -11, 35, -30]\n"
     ]
    }
   ],
   "source": [
    "ini_list = [5, 4, 8, -3, 32,2] \n",
    "  \n",
    "# printing iniial_list \n",
    "print(\"intial_list\", str(ini_list)) \n",
    "  \n",
    "# Calculating difference list \n",
    "diff_list = [] \n",
    "for x, y in zip(ini_list[0::], ini_list[1::]): \n",
    "    diff_list.append(y-x) \n",
    "      \n",
    "#printing difference list \n",
    "print (\"difference list: \", str(diff_list)) "
   ]
  },
  {
   "cell_type": "code",
   "execution_count": null,
   "metadata": {},
   "outputs": [],
   "source": []
  }
 ],
 "metadata": {
  "kernelspec": {
   "display_name": "Python 3",
   "language": "python",
   "name": "python3"
  },
  "language_info": {
   "codemirror_mode": {
    "name": "ipython",
    "version": 3
   },
   "file_extension": ".py",
   "mimetype": "text/x-python",
   "name": "python",
   "nbconvert_exporter": "python",
   "pygments_lexer": "ipython3",
   "version": "3.7.6"
  }
 },
 "nbformat": 4,
 "nbformat_minor": 4
}
