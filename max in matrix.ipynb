{
 "cells": [
  {
   "cell_type": "code",
   "execution_count": 2,
   "metadata": {},
   "outputs": [
    {
     "name": "stdout",
     "output_type": "stream",
     "text": [
      "[454, 23]\n"
     ]
    }
   ],
   "source": [
    "\n",
    "\n",
    "# Python code to Find maximum of list in nested list \n",
    "  \n",
    "# Initialising List \n",
    "a = [[10, 13, 454, 66, 44], [10, 8, 7, 23]] \n",
    "  \n",
    "# find max in list \n",
    "b = [max(p) for p in a] \n",
    "  \n",
    "# Printing max \n",
    "print(b) "
   ]
  },
  {
   "cell_type": "code",
   "execution_count": 3,
   "metadata": {},
   "outputs": [
    {
     "name": "stdout",
     "output_type": "stream",
     "text": [
      "[1000, 873]\n"
     ]
    }
   ],
   "source": [
    "a = [[10, 1000, 454, 66, 44], [10, 873, 7, 23]] \n",
    "  \n",
    "# find max in list \n",
    "b = [max(p) for p in a] \n",
    "  \n",
    "# Printing max \n",
    "print(b) "
   ]
  },
  {
   "cell_type": "code",
   "execution_count": null,
   "metadata": {},
   "outputs": [],
   "source": []
  }
 ],
 "metadata": {
  "kernelspec": {
   "display_name": "Python 3",
   "language": "python",
   "name": "python3"
  },
  "language_info": {
   "codemirror_mode": {
    "name": "ipython",
    "version": 3
   },
   "file_extension": ".py",
   "mimetype": "text/x-python",
   "name": "python",
   "nbconvert_exporter": "python",
   "pygments_lexer": "ipython3",
   "version": "3.7.6"
  }
 },
 "nbformat": 4,
 "nbformat_minor": 4
}
