{
 "cells": [
  {
   "cell_type": "code",
   "execution_count": 1,
   "metadata": {},
   "outputs": [
    {
     "name": "stdout",
     "output_type": "stream",
     "text": [
      "02:25:30.000023\n"
     ]
    }
   ],
   "source": [
    "immport datetime\n",
    "tm=datetime.time(2,25,30,23)\n",
    "print(tm)"
   ]
  },
  {
   "cell_type": "code",
   "execution_count": 13,
   "metadata": {},
   "outputs": [
    {
     "name": "stdout",
     "output_type": "stream",
     "text": [
      "Time tm is 22 hours\n"
     ]
    }
   ],
   "source": [
    "import datetime\n",
    "tm=datetime.time(22)\n",
    "print('Time tm is',\n",
    "     tm.hour,'hours')"
   ]
  },
  {
   "cell_type": "code",
   "execution_count": 17,
   "metadata": {},
   "outputs": [
    {
     "name": "stdout",
     "output_type": "stream",
     "text": [
      "Date date is 27 day of 3 of the year 1999\n"
     ]
    }
   ],
   "source": [
    "import datetime\n",
    "date=datetime.date(1999,3,27)\n",
    "print('Date date is',date.day,\n",
    "     'day of',date.month,\n",
    "     'of the year',date.year)"
   ]
  },
  {
   "cell_type": "code",
   "execution_count": 19,
   "metadata": {},
   "outputs": [
    {
     "name": "stdout",
     "output_type": "stream",
     "text": [
      "day 2 Date date is 28 of the year 1998\n"
     ]
    }
   ],
   "source": [
    "import datetime\n",
    "date=datetime.date(1998,2,28)\n",
    "print('day',date.month,\n",
    "     'Date date is',date.day,\n",
    "     'of the year',date.year)"
   ]
  },
  {
   "cell_type": "code",
   "execution_count": null,
   "metadata": {},
   "outputs": [],
   "source": []
  }
 ],
 "metadata": {
  "kernelspec": {
   "display_name": "Python 3",
   "language": "python",
   "name": "python3"
  },
  "language_info": {
   "codemirror_mode": {
    "name": "ipython",
    "version": 3
   },
   "file_extension": ".py",
   "mimetype": "text/x-python",
   "name": "python",
   "nbconvert_exporter": "python",
   "pygments_lexer": "ipython3",
   "version": "3.7.6"
  }
 },
 "nbformat": 4,
 "nbformat_minor": 4
}
