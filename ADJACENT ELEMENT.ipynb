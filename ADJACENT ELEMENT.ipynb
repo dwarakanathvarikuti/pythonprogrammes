{
 "cells": [
  {
   "cell_type": "code",
   "execution_count": 2,
   "metadata": {},
   "outputs": [
    {
     "name": "stdout",
     "output_type": "stream",
     "text": [
      "The original tuple : (5, 8, 8, 20)\n",
      "Resultant tuple after multiplication : (40, 64, 160)\n"
     ]
    }
   ],
   "source": [
    "\n",
    "test_tup = (5,8,8,20) \n",
    "print(\"The original tuple : \" + str(test_tup)) \n",
    "res = tuple(i * j for i, j in zip(test_tup, test_tup[1:]))  \n",
    "print(\"Resultant tuple after multiplication : \" + str(res))"
   ]
  },
  {
   "cell_type": "code",
   "execution_count": 4,
   "metadata": {},
   "outputs": [
    {
     "name": "stdout",
     "output_type": "stream",
     "text": [
      "The original list of tuple is \n",
      "[(2, 8), (4, 5), (6, 7), (2, 8)]\n",
      "\n",
      "The answer is\n",
      "[16, 20, 42, 16]\n"
     ]
    }
   ],
   "source": [
    "Input = [(2, 8), (4, 5), (6, 7), (2, 8)] \n",
    "Output = [] \n",
    "for elem in Input: \n",
    "    temp = elem[0]*elem[1] \n",
    "    Output.append(temp) \n",
    "  \n",
    "# printing output \n",
    "print(\"The original list of tuple is \") \n",
    "print(Input) \n",
    "  \n",
    "print(\"\\nThe answer is\") \n",
    "print(Output) "
   ]
  },
  {
   "cell_type": "code",
   "execution_count": null,
   "metadata": {},
   "outputs": [],
   "source": []
  }
 ],
 "metadata": {
  "kernelspec": {
   "display_name": "Python 3",
   "language": "python",
   "name": "python3"
  },
  "language_info": {
   "codemirror_mode": {
    "name": "ipython",
    "version": 3
   },
   "file_extension": ".py",
   "mimetype": "text/x-python",
   "name": "python",
   "nbconvert_exporter": "python",
   "pygments_lexer": "ipython3",
   "version": "3.7.6"
  }
 },
 "nbformat": 4,
 "nbformat_minor": 4
}
